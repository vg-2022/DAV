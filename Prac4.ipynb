{
 "cells": [
  {
   "cell_type": "code",
   "execution_count": 19,
   "id": "28c46b24-f4d6-412f-b5cb-d1fb1b10ee01",
   "metadata": {},
   "outputs": [
    {
     "data": {
      "text/plain": [
       "(        Name Time of Joining  Duration\n",
       " 0     Pranay        10:40:00        20\n",
       " 1     Sharan        10:35:00        25\n",
       " 2    Chandan        10:20:00        40\n",
       " 3     Satyam        10:10:00        50\n",
       " 4  Sudhanshu        10:30:00        30,\n",
       "         Name Time of Joining  Duration\n",
       " 0   Shashank        10:10:00        50\n",
       " 1       Yash        10:25:00        35\n",
       " 2       Sonu        10:20:00        40\n",
       " 3     Satyam        10:10:00        50\n",
       " 4  Sudhanshu        10:40:00        20)"
      ]
     },
     "execution_count": 19,
     "metadata": {},
     "output_type": "execute_result"
    }
   ],
   "source": [
    "import numpy as np\n",
    "import pandas as pd\n",
    "\n",
    "df1 = pd.read_csv('C:\\SemV\\DAV\\Day1.csv')\n",
    "df2 = pd.read_csv(\"C:\\SemV\\DAV\\Day2.csv\")\n",
    "\n",
    "df1, df2"
   ]
  },
  {
   "cell_type": "code",
   "execution_count": 12,
   "id": "8d0ba065-8b32-41b9-be68-41084c35100d",
   "metadata": {},
   "outputs": [
    {
     "data": {
      "text/html": [
       "<div>\n",
       "<style scoped>\n",
       "    .dataframe tbody tr th:only-of-type {\n",
       "        vertical-align: middle;\n",
       "    }\n",
       "\n",
       "    .dataframe tbody tr th {\n",
       "        vertical-align: top;\n",
       "    }\n",
       "\n",
       "    .dataframe thead th {\n",
       "        text-align: right;\n",
       "    }\n",
       "</style>\n",
       "<table border=\"1\" class=\"dataframe\">\n",
       "  <thead>\n",
       "    <tr style=\"text-align: right;\">\n",
       "      <th></th>\n",
       "      <th>Name</th>\n",
       "      <th>Time of Joining_x</th>\n",
       "      <th>Duration_x</th>\n",
       "      <th>Time of Joining_y</th>\n",
       "      <th>Duration_y</th>\n",
       "    </tr>\n",
       "  </thead>\n",
       "  <tbody>\n",
       "    <tr>\n",
       "      <th>0</th>\n",
       "      <td>Satyam</td>\n",
       "      <td>10:10:00</td>\n",
       "      <td>50</td>\n",
       "      <td>10:10:00</td>\n",
       "      <td>50</td>\n",
       "    </tr>\n",
       "    <tr>\n",
       "      <th>1</th>\n",
       "      <td>Sudhanshu</td>\n",
       "      <td>10:30:00</td>\n",
       "      <td>30</td>\n",
       "      <td>10:40:00</td>\n",
       "      <td>20</td>\n",
       "    </tr>\n",
       "  </tbody>\n",
       "</table>\n",
       "</div>"
      ],
      "text/plain": [
       "        Name Time of Joining_x  Duration_x Time of Joining_y  Duration_y\n",
       "0     Satyam          10:10:00          50          10:10:00          50\n",
       "1  Sudhanshu          10:30:00          30          10:40:00          20"
      ]
     },
     "execution_count": 12,
     "metadata": {},
     "output_type": "execute_result"
    }
   ],
   "source": [
    "#a\n",
    "df3=pd.merge(df1,df2,how='inner',on='Name')\n",
    "df3"
   ]
  },
  {
   "cell_type": "code",
   "execution_count": 13,
   "id": "16a0a115-6ac1-486f-97c6-f10079ac1da5",
   "metadata": {},
   "outputs": [
    {
     "data": {
      "text/html": [
       "<div>\n",
       "<style scoped>\n",
       "    .dataframe tbody tr th:only-of-type {\n",
       "        vertical-align: middle;\n",
       "    }\n",
       "\n",
       "    .dataframe tbody tr th {\n",
       "        vertical-align: top;\n",
       "    }\n",
       "\n",
       "    .dataframe thead th {\n",
       "        text-align: right;\n",
       "    }\n",
       "</style>\n",
       "<table border=\"1\" class=\"dataframe\">\n",
       "  <thead>\n",
       "    <tr style=\"text-align: right;\">\n",
       "      <th></th>\n",
       "      <th>Name</th>\n",
       "      <th>Time of Joining_x</th>\n",
       "      <th>Duration_x</th>\n",
       "      <th>Time of Joining_y</th>\n",
       "      <th>Duration_y</th>\n",
       "    </tr>\n",
       "  </thead>\n",
       "  <tbody>\n",
       "    <tr>\n",
       "      <th>0</th>\n",
       "      <td>Pranay</td>\n",
       "      <td>10:40:00</td>\n",
       "      <td>20.0</td>\n",
       "      <td>NaN</td>\n",
       "      <td>NaN</td>\n",
       "    </tr>\n",
       "    <tr>\n",
       "      <th>1</th>\n",
       "      <td>Sharan</td>\n",
       "      <td>10:35:00</td>\n",
       "      <td>25.0</td>\n",
       "      <td>NaN</td>\n",
       "      <td>NaN</td>\n",
       "    </tr>\n",
       "    <tr>\n",
       "      <th>2</th>\n",
       "      <td>Chandan</td>\n",
       "      <td>10:20:00</td>\n",
       "      <td>40.0</td>\n",
       "      <td>NaN</td>\n",
       "      <td>NaN</td>\n",
       "    </tr>\n",
       "    <tr>\n",
       "      <th>3</th>\n",
       "      <td>Satyam</td>\n",
       "      <td>10:10:00</td>\n",
       "      <td>50.0</td>\n",
       "      <td>10:10:00</td>\n",
       "      <td>50.0</td>\n",
       "    </tr>\n",
       "    <tr>\n",
       "      <th>4</th>\n",
       "      <td>Sudhanshu</td>\n",
       "      <td>10:30:00</td>\n",
       "      <td>30.0</td>\n",
       "      <td>10:40:00</td>\n",
       "      <td>20.0</td>\n",
       "    </tr>\n",
       "    <tr>\n",
       "      <th>5</th>\n",
       "      <td>Shashank</td>\n",
       "      <td>NaN</td>\n",
       "      <td>NaN</td>\n",
       "      <td>10:10:00</td>\n",
       "      <td>50.0</td>\n",
       "    </tr>\n",
       "    <tr>\n",
       "      <th>6</th>\n",
       "      <td>Yash</td>\n",
       "      <td>NaN</td>\n",
       "      <td>NaN</td>\n",
       "      <td>10:25:00</td>\n",
       "      <td>35.0</td>\n",
       "    </tr>\n",
       "    <tr>\n",
       "      <th>7</th>\n",
       "      <td>Sonu</td>\n",
       "      <td>NaN</td>\n",
       "      <td>NaN</td>\n",
       "      <td>10:20:00</td>\n",
       "      <td>40.0</td>\n",
       "    </tr>\n",
       "  </tbody>\n",
       "</table>\n",
       "</div>"
      ],
      "text/plain": [
       "        Name Time of Joining_x  Duration_x Time of Joining_y  Duration_y\n",
       "0     Pranay          10:40:00        20.0               NaN         NaN\n",
       "1     Sharan          10:35:00        25.0               NaN         NaN\n",
       "2    Chandan          10:20:00        40.0               NaN         NaN\n",
       "3     Satyam          10:10:00        50.0          10:10:00        50.0\n",
       "4  Sudhanshu          10:30:00        30.0          10:40:00        20.0\n",
       "5   Shashank               NaN         NaN          10:10:00        50.0\n",
       "6       Yash               NaN         NaN          10:25:00        35.0\n",
       "7       Sonu               NaN         NaN          10:20:00        40.0"
      ]
     },
     "execution_count": 13,
     "metadata": {},
     "output_type": "execute_result"
    }
   ],
   "source": [
    "#b\n",
    "df4 = pd.merge(df1,df2,how='outer',on='Name')\n",
    "df4"
   ]
  },
  {
   "cell_type": "code",
   "execution_count": 14,
   "id": "0e4dbb76-86ff-4564-b0b3-578b43c5b7c6",
   "metadata": {},
   "outputs": [
    {
     "data": {
      "text/plain": [
       "8"
      ]
     },
     "execution_count": 14,
     "metadata": {},
     "output_type": "execute_result"
    }
   ],
   "source": [
    "#c\n",
    "df4['Name'].count()"
   ]
  },
  {
   "cell_type": "code",
   "execution_count": 23,
   "id": "e1a74b73-9c97-43a1-b0a1-2065d746478c",
   "metadata": {},
   "outputs": [
    {
     "data": {
      "text/html": [
       "<div>\n",
       "<style scoped>\n",
       "    .dataframe tbody tr th:only-of-type {\n",
       "        vertical-align: middle;\n",
       "    }\n",
       "\n",
       "    .dataframe tbody tr th {\n",
       "        vertical-align: top;\n",
       "    }\n",
       "\n",
       "    .dataframe thead th {\n",
       "        text-align: right;\n",
       "    }\n",
       "</style>\n",
       "<table border=\"1\" class=\"dataframe\">\n",
       "  <thead>\n",
       "    <tr style=\"text-align: right;\">\n",
       "      <th></th>\n",
       "      <th></th>\n",
       "      <th>Time of Joining_x</th>\n",
       "      <th>Time of Joining_y</th>\n",
       "    </tr>\n",
       "    <tr>\n",
       "      <th>Name</th>\n",
       "      <th>Duration</th>\n",
       "      <th></th>\n",
       "      <th></th>\n",
       "    </tr>\n",
       "  </thead>\n",
       "  <tbody>\n",
       "    <tr>\n",
       "      <th>Shashank</th>\n",
       "      <th>50</th>\n",
       "      <td>10:10:00</td>\n",
       "      <td>10:10:00</td>\n",
       "    </tr>\n",
       "    <tr>\n",
       "      <th>Yash</th>\n",
       "      <th>35</th>\n",
       "      <td>10:25:00</td>\n",
       "      <td>10:25:00</td>\n",
       "    </tr>\n",
       "    <tr>\n",
       "      <th>Sonu</th>\n",
       "      <th>40</th>\n",
       "      <td>10:20:00</td>\n",
       "      <td>10:20:00</td>\n",
       "    </tr>\n",
       "    <tr>\n",
       "      <th>Satyam</th>\n",
       "      <th>50</th>\n",
       "      <td>10:10:00</td>\n",
       "      <td>10:10:00</td>\n",
       "    </tr>\n",
       "    <tr>\n",
       "      <th>Sudhanshu</th>\n",
       "      <th>20</th>\n",
       "      <td>10:40:00</td>\n",
       "      <td>10:40:00</td>\n",
       "    </tr>\n",
       "  </tbody>\n",
       "</table>\n",
       "</div>"
      ],
      "text/plain": [
       "                   Time of Joining_x Time of Joining_y\n",
       "Name      Duration                                    \n",
       "Shashank  50                10:10:00          10:10:00\n",
       "Yash      35                10:25:00          10:25:00\n",
       "Sonu      40                10:20:00          10:20:00\n",
       "Satyam    50                10:10:00          10:10:00\n",
       "Sudhanshu 20                10:40:00          10:40:00"
      ]
     },
     "execution_count": 23,
     "metadata": {},
     "output_type": "execute_result"
    }
   ],
   "source": [
    "#d\n",
    "df5 = pd.merge(dfDay1,dfDay2,how='outer',on=['Name','Duration']).copy() \n",
    "df5.fillna(value='-',inplace=True)\n",
    "df5.set_index(['Name','Duration']) "
   ]
  },
  {
   "cell_type": "code",
   "execution_count": null,
   "id": "921f571a-2a44-4b57-abd0-c36010751b60",
   "metadata": {},
   "outputs": [],
   "source": []
  }
 ],
 "metadata": {
  "kernelspec": {
   "display_name": "Python 3 (ipykernel)",
   "language": "python",
   "name": "python3"
  },
  "language_info": {
   "codemirror_mode": {
    "name": "ipython",
    "version": 3
   },
   "file_extension": ".py",
   "mimetype": "text/x-python",
   "name": "python",
   "nbconvert_exporter": "python",
   "pygments_lexer": "ipython3",
   "version": "3.11.3"
  }
 },
 "nbformat": 4,
 "nbformat_minor": 5
}
