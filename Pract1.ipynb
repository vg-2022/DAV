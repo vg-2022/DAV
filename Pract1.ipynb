{
 "cells": [
  {
   "cell_type": "code",
   "execution_count": 2,
   "id": "d042e472-9928-4d19-b803-74372e826e5d",
   "metadata": {},
   "outputs": [
    {
     "name": "stdout",
     "output_type": "stream",
     "text": [
      "[{'Boys': 56, 'Girls': 31}, {'Boys': 38, 'Girls': 45}, {'Boys': 56, 'Girls': 66}]\n"
     ]
    }
   ],
   "source": [
    "d={'Boys':[56,38,56],'girls':[31,45,66]}\n",
    "l1=[]\n",
    "r=len(d['Boys'])\n",
    "\n",
    "for i in range(r):\n",
    "    dd={}\n",
    "    dd['Boys']=d['Boys'][i]\n",
    "    dd['Girls']=d['girls'][i]\n",
    "    l1.append(dd)\n",
    "   \n",
    "print(l1)"
   ]
  },
  {
   "cell_type": "code",
   "execution_count": null,
   "id": "60e4d6dd-e6f4-4b1c-b33d-9503b73014a0",
   "metadata": {},
   "outputs": [],
   "source": []
  },
  {
   "cell_type": "code",
   "execution_count": null,
   "id": "30554653-ea70-41d5-baf0-5a9e64f75d6c",
   "metadata": {},
   "outputs": [],
   "source": []
  }
 ],
 "metadata": {
  "kernelspec": {
   "display_name": "Python 3 (ipykernel)",
   "language": "python",
   "name": "python3"
  },
  "language_info": {
   "codemirror_mode": {
    "name": "ipython",
    "version": 3
   },
   "file_extension": ".py",
   "mimetype": "text/x-python",
   "name": "python",
   "nbconvert_exporter": "python",
   "pygments_lexer": "ipython3",
   "version": "3.11.3"
  }
 },
 "nbformat": 4,
 "nbformat_minor": 5
}
