{
 "cells": [
  {
   "cell_type": "code",
   "execution_count": 2,
   "id": "baf624dd-4fbf-49ec-afa7-c284a10e5bd1",
   "metadata": {},
   "outputs": [],
   "source": [
    "import numpy as np"
   ]
  },
  {
   "cell_type": "code",
   "execution_count": 3,
   "id": "56fa800b-b485-4b9e-85ef-a696b0f281ad",
   "metadata": {},
   "outputs": [
    {
     "data": {
      "text/plain": [
       "array([[17, 46, 39, 24, 49, 22],\n",
       "       [ 1, 41, 33, 34, 26,  2],\n",
       "       [39,  1, 20, 29, 25,  2],\n",
       "       [45,  1, 27, 32,  2,  3]])"
      ]
     },
     "execution_count": 3,
     "metadata": {},
     "output_type": "execute_result"
    }
   ],
   "source": [
    "arr = np.random.randint(1,50,(4,6))\n",
    "arr"
   ]
  },
  {
   "cell_type": "code",
   "execution_count": 6,
   "id": "6dcc31dc-92fb-4d64-9842-4c4271cd48e9",
   "metadata": {},
   "outputs": [
    {
     "data": {
      "text/plain": [
       "array([32.83333333, 22.83333333, 19.33333333, 18.33333333])"
      ]
     },
     "execution_count": 6,
     "metadata": {},
     "output_type": "execute_result"
    }
   ],
   "source": [
    "#Mean\n",
    "print('Mean: ',arr.mean(axis=1))\n",
    "#standard deviation\n",
    "print('Standard Deviation: ',arr.std(axis=1))\n",
    "#variance\n",
    "print('Variance: ',arr.var(axis=1))"
   ]
  },
  {
   "cell_type": "code",
   "execution_count": 8,
   "id": "7ac99d99-9256-460e-b620-f83e83ec2367",
   "metadata": {},
   "outputs": [
    {
     "name": "stdout",
     "output_type": "stream",
     "text": [
      "Sorted array:  [ 8 22 24 33 41 46 48 56 78 91]\n",
      "Indices of the sorted elements of a given array:  [8 2 6 9 3 7 1 0 4 5]\n"
     ]
    }
   ],
   "source": [
    "#b\n",
    "B=[56, 48, 22, 41, 78, 91, 24, 46, 8, 33]\n",
    "arr1 = np.array(B)\n",
    "print(\"Sorted array: \",np.sort(arr1))\n",
    "print(\"Indices of the sorted elements of a given array: \",np.argsort(arr1))"
   ]
  },
  {
   "cell_type": "code",
   "execution_count": 10,
   "id": "14bd979d-47b9-473b-8172-ced6848e42f2",
   "metadata": {},
   "outputs": [
    {
     "name": "stdout",
     "output_type": "stream",
     "text": [
      "[[ 5 63 99 76]\n",
      " [78 75 32 81]\n",
      " [62 86 55  9]]\n",
      "Shape:  (3, 4)\n",
      "Type:  <class 'numpy.ndarray'>\n",
      "Data Type:  int32\n",
      "After reshaping: \n",
      " [[ 5 63 99]\n",
      " [76 78 75]\n",
      " [32 81 62]\n",
      " [86 55  9]]\n",
      "New Shape:  (4, 3)\n"
     ]
    }
   ],
   "source": [
    "#c\n",
    "m = 3\n",
    "n = 4\n",
    "arr2 = np.random.randint(1,100,(m,n))\n",
    "print(arr2)\n",
    "print('Shape: ',arr2.shape)\n",
    "print('Type: ',type(arr2))\n",
    "print('Data Type: ',arr2.dtype)\n",
    "arr2 = arr2.reshape(n,m)\n",
    "print('After reshaping: \\n',arr2)\n",
    "print('New Shape: ',arr2.shape)"
   ]
  },
  {
   "cell_type": "code",
   "execution_count": 11,
   "id": "813e1f29-8316-43f1-950b-486973c1b511",
   "metadata": {},
   "outputs": [
    {
     "name": "stdout",
     "output_type": "stream",
     "text": [
      "ARRAY:  [ 1.  0.  3.  4.  0.  0.  3.  2.  1. nan  3. nan]\n"
     ]
    }
   ],
   "source": [
    "#d\n",
    "x = np.array([1, 0, 3, 4, 0, 0, 3, 2, 1, np.nan, 3, np.nan])\n",
    "print(\"ARRAY: \",x)"
   ]
  },
  {
   "cell_type": "code",
   "execution_count": 12,
   "id": "e3027661-d437-4656-9772-ceb6a2397a32",
   "metadata": {},
   "outputs": [
    {
     "name": "stdout",
     "output_type": "stream",
     "text": [
      "Elements of the array are zero :  False\n",
      "Indices of zero elements:  [1 4 5]\n"
     ]
    }
   ],
   "source": [
    "print(\"Elements of the array are zero : \", np.all(x))\n",
    "res = np.where(x == 0)[0]\n",
    "print(\"Indices of zero elements: \",res)"
   ]
  },
  {
   "cell_type": "code",
   "execution_count": 13,
   "id": "629be701-5065-4032-8ee7-1afceddf709a",
   "metadata": {},
   "outputs": [
    {
     "name": "stdout",
     "output_type": "stream",
     "text": [
      "Elements of array are NaN ::  [False False False False False False False False False  True False  True]\n",
      "Indices of NaN elements:  [ 9 11]\n"
     ]
    }
   ],
   "source": [
    "print(\"Elements of array are NaN :: \",np.isnan(x))\n",
    "res = np.where(np.isnan(x) == True)[0]\n",
    "print(\"Indices of NaN elements: \",res)"
   ]
  },
  {
   "cell_type": "code",
   "execution_count": null,
   "id": "1b4791b3-2d78-40cd-838b-17f1841bfc91",
   "metadata": {},
   "outputs": [],
   "source": []
  }
 ],
 "metadata": {
  "kernelspec": {
   "display_name": "Python 3 (ipykernel)",
   "language": "python",
   "name": "python3"
  },
  "language_info": {
   "codemirror_mode": {
    "name": "ipython",
    "version": 3
   },
   "file_extension": ".py",
   "mimetype": "text/x-python",
   "name": "python",
   "nbconvert_exporter": "python",
   "pygments_lexer": "ipython3",
   "version": "3.11.3"
  }
 },
 "nbformat": 4,
 "nbformat_minor": 5
}
